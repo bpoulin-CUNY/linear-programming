{
 "cells": [
  {
   "cell_type": "code",
   "execution_count": 1,
   "metadata": {},
   "outputs": [],
   "source": [
    "from pulp import *\n",
    "import matplotlib.pylab as plt"
   ]
  },
  {
   "cell_type": "markdown",
   "metadata": {},
   "source": [
    "## Run the Default Test Pulp"
   ]
  },
  {
   "cell_type": "markdown",
   "metadata": {},
   "source": [
    "pulpTestAll()"
   ]
  },
  {
   "cell_type": "markdown",
   "metadata": {},
   "source": [
    "## See how Pulp Works Using Base Documentation Example\n",
    "\n",
    "This is an important first step toward working with the package if you have no prior experience and no known examples because it allows you to run a computation with a know outcome.\n",
    "[Pulp Test Equation](https://pypi.org/project/PuLP/)"
   ]
  },
  {
   "cell_type": "code",
   "execution_count": 3,
   "metadata": {},
   "outputs": [
    {
     "name": "stdout",
     "output_type": "stream",
     "text": [
      "2.0\n",
      "0.0\n"
     ]
    }
   ],
   "source": [
    "x = LpVariable(\"x\", 0, 3)\n",
    "y = LpVariable(\"y\", 0, 1)\n",
    "prob = LpProblem(\"myProblem\", LpMinimize)\n",
    "prob += x + y <= 2\n",
    "prob += -4*x + y\n",
    "status = prob.solve()\n",
    "LpStatus[status]\n",
    "print(value(x))\n",
    "print(value(y))"
   ]
  },
  {
   "cell_type": "markdown",
   "metadata": {},
   "source": [
    "\n",
    "## Realworld Problem One: Bakery Profits\n",
    "\n",
    "You are hired by a bakery  charged with the task of optimizing profits for their small cakes division, which makes cream puffs and cupcakes\n",
    " * You have a total of 800 baker labor hours  \n",
    " * You have a total of 350 froster labor hours\n",
    " * You have unlimited access to needed materials (flour, butter, sugar, butter & flavorings)  \n",
    " * Cupcakes cost $ .65 in ingredients  \n",
    " \n",
    " * Cream Puffs cost  $ .85 in ingredients   \n",
    " \n",
    " * Cupcakes take .07 hours to bake (per cupcake)  \n",
    " \n",
    " * Cream Puffs take .06 hours to bake (per puff)  \n",
    " \n",
    " * Cupcakes take .07 hours to frost (per cupcake)  \n",
    " \n",
    " * Cream Puffs take .06 hours to frost (per puff)  \n",
    " \n",
    " * Cupcakes sell for $3.50     \n",
    " \n",
    " * Cream Puffs sell for $4.00\n",
    "\n"
   ]
  },
  {
   "cell_type": "markdown",
   "metadata": {},
   "source": [
    "## Defining the Model Type\n",
    "In this case all that we are doing is creating a pulp model object and assigning it a maximization argument, which will tell the solver that we want to maximize profits"
   ]
  },
  {
   "cell_type": "code",
   "execution_count": 4,
   "metadata": {},
   "outputs": [],
   "source": [
    "model = pulp.LpProblem('Profit maximizing problem', pulp.LpMaximize)\n"
   ]
  },
  {
   "cell_type": "markdown",
   "metadata": {},
   "source": [
    "### The Decsison Variables\n",
    "\n",
    "In pulp we define the decision variables, and their possible range of values first, then apply the to an objective function"
   ]
  },
  {
   "cell_type": "code",
   "execution_count": 5,
   "metadata": {},
   "outputs": [],
   "source": [
    "cupcake = pulp.LpVariable('cupcake', lowBound=0, cat ='Integer')\n",
    "cream_puff = pulp.LpVariable('cream_puff', lowBound=0, cat ='Integer')\n",
    "\n"
   ]
  },
  {
   "cell_type": "markdown",
   "metadata": {},
   "source": [
    "### The Objective Funtion\n",
    "\n",
    "We simply start adding equations to the model which define the parameters of model, starting with the objective function and assigning it an outcome of 'profit' so we must use as a coefficient for each variable, the profit we calculated earlier."
   ]
  },
  {
   "cell_type": "code",
   "execution_count": 6,
   "metadata": {},
   "outputs": [],
   "source": [
    "model += 2.85*cupcake + 3.15*cream_puff, 'Profit'"
   ]
  },
  {
   "cell_type": "markdown",
   "metadata": {},
   "source": [
    "### Contraint Functions\n",
    "\n",
    "Now using the baking time and total baker housres we established prior, we create constraint functions for our model\n",
    "\n",
    "In our case we have only two constraints, baker time & frosting time so we create a single constraint equation for each constraing which opposed the proportions of each variable against the total alloted time"
   ]
  },
  {
   "cell_type": "code",
   "execution_count": 7,
   "metadata": {},
   "outputs": [],
   "source": [
    "#baking time\n",
    "model +=.05*cupcake + .08*cream_puff <=800\n",
    "\n",
    "#frosting time\n",
    "model += .04*cupcake + .03*cream_puff <=350"
   ]
  },
  {
   "cell_type": "markdown",
   "metadata": {},
   "source": [
    "### Solving The Model\n",
    "\n",
    "We just pass the model to the method `.solve()` and it will optimize for the criteria we established in the first step, in this case maximizing profits\n",
    "\n",
    "#### Verifying that PulP was Able to Find an Optimized Result\n",
    "\n",
    "It is important to be sure that you are actually getting a fully optimized result, it is possible to compose a situation where Pulp would be unable to resolve as is."
   ]
  },
  {
   "cell_type": "code",
   "execution_count": 8,
   "metadata": {},
   "outputs": [
    {
     "data": {
      "text/plain": [
       "'Optimal'"
      ]
     },
     "execution_count": 8,
     "metadata": {},
     "output_type": "execute_result"
    }
   ],
   "source": [
    "model.solve()\n",
    "\n",
    "pulp.LpStatus[model.status]"
   ]
  },
  {
   "cell_type": "markdown",
   "metadata": {},
   "source": [
    "### Retrieving Optimal Production Values & profit\n",
    "\n",
    "to get values out of the model you apply the `.varValue` method to each of the decision variables. \n",
    " * `cupcake.varValue`\n",
    " * `cream_puff.varValue`\n",
    " \n",
    "To obtain our total profit for the month based on this equation we use `pulp.value(model.objective)`\n",
    "\n",
    "You could expect any of the following outcomes\n",
    " * **Not Solved:** This tells you that you have not executed `solve()` yet\n",
    " * **Optimal:** Solver was able to establish an optimal solution\n",
    " * **Infeasible:** Indicative of constraints which make solving impossible\n",
    " * **Unbounded:** This is returned with you have a boundary without a fixed limit, such that you could find a limitless number of solutions within a range or toward infinity\n",
    " * **Undefined:** No optimal solution was found, there may or may not be one"
   ]
  },
  {
   "cell_type": "code",
   "execution_count": 9,
   "metadata": {},
   "outputs": [
    {
     "data": {
      "text/plain": [
       "2352.0"
      ]
     },
     "execution_count": 9,
     "metadata": {},
     "output_type": "execute_result"
    }
   ],
   "source": [
    "cupcake.varValue"
   ]
  },
  {
   "cell_type": "code",
   "execution_count": 10,
   "metadata": {},
   "outputs": [
    {
     "data": {
      "text/plain": [
       "8530.0"
      ]
     },
     "execution_count": 10,
     "metadata": {},
     "output_type": "execute_result"
    }
   ],
   "source": [
    "cream_puff.varValue"
   ]
  },
  {
   "cell_type": "code",
   "execution_count": 11,
   "metadata": {},
   "outputs": [
    {
     "data": {
      "text/plain": [
       "33572.7"
      ]
     },
     "execution_count": 11,
     "metadata": {},
     "output_type": "execute_result"
    }
   ],
   "source": [
    "pulp.value(model.objective)"
   ]
  },
  {
   "cell_type": "markdown",
   "metadata": {},
   "source": [
    "### Making it Prettier"
   ]
  },
  {
   "cell_type": "code",
   "execution_count": 12,
   "metadata": {},
   "outputs": [
    {
     "name": "stdout",
     "output_type": "stream",
     "text": [
      "Cupcake Production Target: 2352.0 cupcakes per month\n",
      "Cream Puff Production Target: 8530.0 cream puffs per month\n"
     ]
    }
   ],
   "source": [
    "print \"Cupcake Production Target: {} cupcakes per month\".format(cupcake.varValue)\n",
    "print \"Cream Puff Production Target: {} cream puffs per month\".format(cream_puff.varValue)"
   ]
  },
  {
   "cell_type": "code",
   "execution_count": 13,
   "metadata": {},
   "outputs": [
    {
     "name": "stdout",
     "output_type": "stream",
     "text": [
      "Profit Per month based on 2352.0  cupcakes and 8530.0 cream puff is $33572.7 \n"
     ]
    }
   ],
   "source": [
    "print \"Profit Per month based on {}  cupcakes and {} cream puff is ${} \".format(cupcake.varValue, cream_puff.varValue, pulp.value(model.objective))"
   ]
  },
  {
   "cell_type": "markdown",
   "metadata": {},
   "source": [
    "## How Can We See if We Were Right?\n",
    "We can plot the two varibles on X and Y axes after computing the bounding points with each of the contraint equations to validate what we have found above.\n",
    "\n",
    "To do so, each of the inequalities is artificially converted to an equality, and zero is substituted for one of the two variables to calculate the x and y intercepts for the line.\n",
    "\n",
    "Baking Time\n",
    ".05*cupcake + .08*cream_puff =800\n",
    "where \n",
    "    cupcake = 0 \n",
    "    creampuff = 10,000\n",
    "\n",
    "Where\n",
    "    cream_puff = 0\n",
    "    cupcake = 16,000\n",
    "    \n",
    "Frosting Time\n",
    "model += .04*cupcake + .03*cream_puff <=350\n",
    "where \n",
    "    cupcake = 0 \n",
    "    creampuff = 11667 (rounded)\n",
    "\n",
    "Where\n",
    "    cream_puff = 0\n",
    "    cupcake = 8750"
   ]
  },
  {
   "cell_type": "code",
   "execution_count": 14,
   "metadata": {},
   "outputs": [
    {
     "data": {
      "image/png": "[encoded data removed]",
      "text/plain": [
       "<Figure size 1440x864 with 1 Axes>"
      ]
     },
     "metadata": {
      "needs_background": "light"
     },
     "output_type": "display_data"
    }
   ],
   "source": [
    "baking_cupcake = [0, 16000]\n",
    "baking_cream_puff = [10000, 0]\n",
    "\n",
    "frosting_cupcake = [0, 8750]\n",
    "frosting_cream_puff =[11667, 0]\n",
    "\n",
    "plt.figure(figsize=(20,12))\n",
    "plt.plot(baking_cupcake, baking_cream_puff, color ='green',)\n",
    "plt.plot(frosting_cupcake, frosting_cream_puff, color='purple')\n",
    "plt.plot(2352, 8530, markersize=20, markeredgecolor='darkorange', marker = 'o', color='darkorange',label='Pulp\\'s Solution') \n",
    "plt.xlabel('Number of Cream Puffs',fontsize =24)\n",
    "plt.ylabel('Number of Cupcakes',fontsize =24)\n",
    "#plt.savefig('cupcake_manual.png')\n",
    "plt.show()"
   ]
  },
  {
   "cell_type": "markdown",
   "metadata": {},
   "source": [
    "## Things We Could have Done But Did Not\n",
    "\n",
    "We could have set upper bounds for our baked goods to accomodate demand or shelf space or some other limiting factor. To do this we would just add the `upBound = <some_value>`\n",
    "\n",
    "We could also use other solvers `CPLEX` being one of them, however this would require installing and configuring compiled solvers for PulP to access."
   ]
  },
  {
   "cell_type": "code",
   "execution_count": null,
   "metadata": {},
   "outputs": [],
   "source": [
    "\n",
    "\n"
   ]
  },
  {
   "cell_type": "markdown",
   "metadata": {},
   "source": [
    "# Optimizing Granola Blends\n",
    "\n",
    "\n",
    "In this case we have a more complex problem to solve\n",
    "\n",
    "We want to do minimize cost, while meeting the demands of our recent order which need to be filled for organic granola cereal to one of our clients who sells it under their store brand. \n",
    "\n",
    "Instead of creating a fixed recipe with a fixed profit we are going to work within a range of ingredient contents that we know, via testing, are considered a good product for their retail price. So, we are looking to minimize costs, while delivering acceptable granola products to meet our clients needs.\n",
    "\n",
    "There are some things which we know for sure:\n",
    "\n",
    "We need to deliver **725 12oz pouches of granola** and our vendors have requested the following:\n",
    "\n",
    " * **275 pouches of Premium Granola**\n",
    " * **450 pouches of Standard Granola**\n",
    " \n",
    "Constraints Table\n",
    " \n",
    "| Ingredient | Cost | Avalability |\n",
    "|------------|------|-------------|\n",
    "| Oats       | .75  | 380         |\n",
    "| Cashews    | 6.00 | 75          |\n",
    "| Honey      | 5.50 | 60          |\n",
    "| Raisins    | 3.50 | 61          |\n",
    "\n",
    "We have some criteria for minimums and maximum proportions of each based on customers responses to what seems appropriate for a good pouch of standard and premium granola.\n",
    "\n",
    "### Mix Criteria\n",
    "\n",
    "**premium**  \n",
    "45% or more raisins & cashews  \n",
    "12% honey  \n",
    "**standard**  \n",
    "25% or more raisins and cashews  \n",
    "8% honey  \n",
    "\n",
    " \n"
   ]
  },
  {
   "cell_type": "markdown",
   "metadata": {},
   "source": [
    "## Decision Variables\n",
    "\n",
    "In this example, defining the decision variable and the objective function are both considerably more complicated because there are 4 components going into our product, and because we are making two grades of this product. \n",
    "\n",
    "\n",
    "Our decision variables are the ingredients:\n",
    "\n",
    "* **oats**\n",
    "* **cashews** \n",
    "* **honey**\n",
    "* **raisins**\n",
    "\n",
    "As well as types of product they create:\n",
    "\n",
    "* **premium**\n",
    "* **standard**\n",
    "\n",
    "Note, because the two varieties of granola will each have a different blend of ingredients, if we were building a model manually, we would actually use subscripts to define the proportions for *premium* and *standard* mixes.\n",
    "\n",
    "with the subscripts you will see them represented as follows in discussion so that it is easy to follow what we are looking at.\n",
    "\n",
    "**ingredient_p** for premium ingredients (example: oats_p)  \n",
    "**ingredient_s** for standard ingredients (example: standard_p)\n",
    "\n",
    "However as you will see in the model-building step below we use some built in capabilities of lists, loops and Pulp to accomplish the actual assignment of variables"
   ]
  },
  {
   "cell_type": "markdown",
   "metadata": {},
   "source": [
    "###  Building the Model in PulP"
   ]
  },
  {
   "cell_type": "code",
   "execution_count": 15,
   "metadata": {},
   "outputs": [],
   "source": [
    "model = pulp.LpProblem(\"Cost Minimizing Ingredient Ratios\", pulp.LpMinimize)"
   ]
  },
  {
   "cell_type": "markdown",
   "metadata": {},
   "source": [
    "#### Building Decision Variable Lists for the Objective Function"
   ]
  },
  {
   "cell_type": "code",
   "execution_count": 16,
   "metadata": {},
   "outputs": [],
   "source": [
    "granola_blends = ['premium', 'standard']\n",
    "ingredients = ['oats', 'cashews', 'honey', 'raisins']"
   ]
  },
  {
   "cell_type": "markdown",
   "metadata": {},
   "source": [
    "### Components on Hand\n",
    "\n",
    "In this case we will pass a LIST COMPREHENSION is disguise into the function to pair the ingredients with the type of granola in adictionary.\n",
    "\n",
    "Again we are setting the low boundary at 0 because all of the ingredients are mandatory and cannot be negative. This time, we are setting the type to continuous allowing for floating value quantities of each ingredient\n",
    "\n",
    "\n",
    "\n"
   ]
  },
  {
   "cell_type": "code",
   "execution_count": 17,
   "metadata": {},
   "outputs": [],
   "source": [
    "component_weights = pulp.LpVariable.dicts(\"weight in pounds\",\n",
    "                                     ((blend, ingredient) for blend in granola_blends for ingredient in ingredients),\n",
    "                                     lowBound=0,\n",
    "                                     cat='Continuous')"
   ]
  },
  {
   "cell_type": "markdown",
   "metadata": {},
   "source": [
    "### The Objective Function  \n",
    "\n",
    "\n",
    "In this case, we aim to MINIMIZE COSTS based on meeting our mixture criteria and meeting delivery requirements.\n",
    "\n",
    "$$cost = .75(oats_p + oats_s) + 6(cashews_p + cashews_s) + 5.50(honey_p + honey_s) + 3.5(raisins_p + raisins_s)$$\n",
    "\n"
   ]
  },
  {
   "cell_type": "code",
   "execution_count": 18,
   "metadata": {},
   "outputs": [],
   "source": [
    "\n",
    "model += (\n",
    "    pulp.lpSum([\n",
    "        .75 * component_weights[(blend, 'oats')]\n",
    "        + 6.00 * component_weights[(blend, 'cashews')]\n",
    "        + 5.50 * component_weights[(blend, 'honey')]\n",
    "        + 3.50 * component_weights[(blend, 'raisins')]\n",
    "        for blend in granola_blends])\n",
    ")"
   ]
  },
  {
   "cell_type": "markdown",
   "metadata": {},
   "source": [
    "### Creating Constraints\n",
    "\n",
    "We will break this down into steps so you can see each set of limitations your model will have to respect to reach an optimal state, starting with the **quantity of each blend**"
   ]
  },
  {
   "cell_type": "code",
   "execution_count": 19,
   "metadata": {},
   "outputs": [],
   "source": [
    "model += pulp.lpSum([component_weights['standard', ingredient] for ingredient in ingredients]) ==450 *.75\n",
    "model += pulp.lpSum([component_weights['premium', ingredient] for ingredient in ingredients]) ==275 *.75"
   ]
  },
  {
   "cell_type": "markdown",
   "metadata": {},
   "source": [
    "### Creating Constraints for Raisin & Cashew Combinations\n",
    "\n"
   ]
  },
  {
   "cell_type": "code",
   "execution_count": 20,
   "metadata": {},
   "outputs": [],
   "source": [
    "model += (component_weights['standard', 'cashews'] + component_weights['standard', 'cashews'] )>= (\n",
    "    0.25 * pulp.lpSum([component_weights['standard', ingredient] for ingredient in ingredients]))\n",
    "\n",
    "\n",
    "model += (component_weights['premium', 'cashews'] + component_weights['standard', 'cashews']) >= (\n",
    "    0.45 * pulp.lpSum([component_weights['premium', ingredient] for ingredient in ingredients]))\n"
   ]
  },
  {
   "cell_type": "markdown",
   "metadata": {},
   "source": [
    "### Creating Constraints for Honey Quantities"
   ]
  },
  {
   "cell_type": "code",
   "execution_count": 21,
   "metadata": {},
   "outputs": [],
   "source": [
    "model += component_weights['standard', 'honey'] == (\n",
    "    0.08 * pulp.lpSum([component_weights['standard', ingredient] for ingredient in ingredients]))\n",
    "\n",
    "model += component_weights['premium', 'honey']== (\n",
    "    0.12 * pulp.lpSum([component_weights['premium', ingredient] for ingredient in ingredients]))\n"
   ]
  },
  {
   "cell_type": "markdown",
   "metadata": {},
   "source": [
    "### Creating Constraints for Available Quantities"
   ]
  },
  {
   "cell_type": "code",
   "execution_count": 22,
   "metadata": {},
   "outputs": [],
   "source": [
    "model += pulp.lpSum([component_weights[blend, 'oats'] for blend in granola_blends]) <= 380"
   ]
  },
  {
   "cell_type": "code",
   "execution_count": 23,
   "metadata": {},
   "outputs": [],
   "source": [
    "model += pulp.lpSum([component_weights[blend, 'cashews'] for blend in granola_blends]) <= 286\n",
    "model += pulp.lpSum([component_weights[blend, 'honey'] for blend in granola_blends]) <= 102\n",
    "model += pulp.lpSum([component_weights[blend, 'raisins'] for blend in granola_blends]) <= 198"
   ]
  },
  {
   "cell_type": "markdown",
   "metadata": {},
   "source": [
    "### Solving the Model & Checking for Optimization"
   ]
  },
  {
   "cell_type": "code",
   "execution_count": 24,
   "metadata": {},
   "outputs": [
    {
     "data": {
      "text/plain": [
       "'Optimal'"
      ]
     },
     "execution_count": 24,
     "metadata": {},
     "output_type": "execute_result"
    }
   ],
   "source": [
    "model.solve()\n",
    "pulp.LpStatus[model.status]"
   ]
  },
  {
   "cell_type": "code",
   "execution_count": 29,
   "metadata": {},
   "outputs": [
    {
     "name": "stdout",
     "output_type": "stream",
     "text": [
      "The weight of raisins in premium granola blend is 19.1875 kg\n",
      "\n",
      "The weight of oats in premium granola blend is 111.6875 kg\n",
      "\n",
      "The weight of cashews in premium granola blend is 50.625 kg\n",
      "\n",
      "The weight of raisins in standard granola blend is 0.0 kg\n",
      "\n",
      "The weight of honey in premium granola blend is 24.75 kg\n",
      "\n",
      "The weight of oats in standard granola blend is 268.3125 kg\n",
      "\n",
      "The weight of cashews in standard granola blend is 42.1875 kg\n",
      "\n",
      "The weight of honey in standard granola blend is 27.0 kg\n",
      "\n"
     ]
    }
   ],
   "source": [
    "for ingredient in component_weights:\n",
    "    value = component_weights[ingredient].varValue\n",
    "    print \"The weight of {0} in {1} granola blend is {2} kg\\n\".format(ingredient[1], ingredient[0], value)"
   ]
  },
  {
   "cell_type": "code",
   "execution_count": 31,
   "metadata": {},
   "outputs": [],
   "source": [
    "total_cost = pulp.value(model.objective)"
   ]
  },
  {
   "cell_type": "code",
   "execution_count": 32,
   "metadata": {},
   "outputs": [
    {
     "name": "stdout",
     "output_type": "stream",
     "text": [
      "The total cost for 450 pouches of standard granola and 275 pouches of premium granola is $1193.66\n"
     ]
    }
   ],
   "source": [
    "print \"The total cost for 450 pouches of standard granola and 275 pouches of premium granola is ${}\".format(round(total_cost, 2))"
   ]
  },
  {
   "cell_type": "markdown",
   "metadata": {},
   "source": [
    "## Citations\n",
    "\n",
    "Heizer, Jay, and Barry Render. Operations management : sustainability and supply chain management. Boston: Pearson, 2014. Print.  \n",
    "\n",
    "Cokelaer, Thomas. “Solving a Linear Programming Problem with Python (Pulp).” Thomas Cokelaers Blog, 28 Nov. 2012, thomas-cokelaer.info/blog/2012/11/solving-a-linear-programming-problem-with-python-pulp/.  \n",
    "\n",
    "Keen, Ben. “Linear Programming with Python and PuLP - Part 1.” Ben Alex Keen, Apr. 2016, benalexkeen.com/linear-programming-with-python-and-pulp-part-1/.  \n",
    "\n",
    "\n",
    "“PuLP Documentation.” Optimization with PuLP - PuLP 1.6.0 Documentation, pythonhosted.org/PuLP/index.html.\n",
    "\n"
   ]
  }
 ],
 "metadata": {
  "kernelspec": {
   "display_name": "Python 2",
   "language": "python",
   "name": "python2"
  },
  "language_info": {
   "codemirror_mode": {
    "name": "ipython",
    "version": 2
   },
   "file_extension": ".py",
   "mimetype": "text/x-python",
   "name": "python",
   "nbconvert_exporter": "python",
   "pygments_lexer": "ipython2",
   "version": "2.7.16"
  }
 },
 "nbformat": 4,
 "nbformat_minor": 2
}
